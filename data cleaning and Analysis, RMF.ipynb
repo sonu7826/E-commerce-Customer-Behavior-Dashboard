{
 "cells": [
  {
   "cell_type": "code",
   "execution_count": 1,
   "id": "b8dfd534-45f0-4aea-879a-1b9cd5ba8473",
   "metadata": {},
   "outputs": [
    {
     "name": "stdout",
     "output_type": "stream",
     "text": [
      "<class 'pandas.core.frame.DataFrame'>\n",
      "RangeIndex: 541909 entries, 0 to 541908\n",
      "Data columns (total 8 columns):\n",
      " #   Column       Non-Null Count   Dtype  \n",
      "---  ------       --------------   -----  \n",
      " 0   InvoiceNo    541909 non-null  object \n",
      " 1   StockCode    541909 non-null  object \n",
      " 2   Description  540455 non-null  object \n",
      " 3   Quantity     541909 non-null  int64  \n",
      " 4   InvoiceDate  541909 non-null  object \n",
      " 5   UnitPrice    541909 non-null  float64\n",
      " 6   CustomerID   406829 non-null  float64\n",
      " 7   Country      541909 non-null  object \n",
      "dtypes: float64(2), int64(1), object(5)\n",
      "memory usage: 33.1+ MB\n"
     ]
    }
   ],
   "source": [
    "import pandas as pd\n",
    "df = pd.read_csv(\"Online Retail.csv\", encoding='latin1', parse_dates=['InvoiceDate'])\n",
    "df.head()\n",
    "df.info()\n"
   ]
  },
  {
   "cell_type": "code",
   "execution_count": 2,
   "id": "9038d7aa-395c-4fd4-af1f-61057f7befb3",
   "metadata": {},
   "outputs": [
    {
     "data": {
      "text/html": [
       "<div>\n",
       "<style scoped>\n",
       "    .dataframe tbody tr th:only-of-type {\n",
       "        vertical-align: middle;\n",
       "    }\n",
       "\n",
       "    .dataframe tbody tr th {\n",
       "        vertical-align: top;\n",
       "    }\n",
       "\n",
       "    .dataframe thead th {\n",
       "        text-align: right;\n",
       "    }\n",
       "</style>\n",
       "<table border=\"1\" class=\"dataframe\">\n",
       "  <thead>\n",
       "    <tr style=\"text-align: right;\">\n",
       "      <th></th>\n",
       "      <th>InvoiceNo</th>\n",
       "      <th>StockCode</th>\n",
       "      <th>Description</th>\n",
       "      <th>Quantity</th>\n",
       "      <th>InvoiceDate</th>\n",
       "      <th>UnitPrice</th>\n",
       "      <th>CustomerID</th>\n",
       "      <th>Country</th>\n",
       "    </tr>\n",
       "  </thead>\n",
       "  <tbody>\n",
       "    <tr>\n",
       "      <th>0</th>\n",
       "      <td>536365</td>\n",
       "      <td>85123A</td>\n",
       "      <td>WHITE HANGING HEART T-LIGHT HOLDER</td>\n",
       "      <td>6</td>\n",
       "      <td>01-12-2010 08:26</td>\n",
       "      <td>2.55</td>\n",
       "      <td>17850.0</td>\n",
       "      <td>United Kingdom</td>\n",
       "    </tr>\n",
       "    <tr>\n",
       "      <th>1</th>\n",
       "      <td>536365</td>\n",
       "      <td>71053</td>\n",
       "      <td>WHITE METAL LANTERN</td>\n",
       "      <td>6</td>\n",
       "      <td>01-12-2010 08:26</td>\n",
       "      <td>3.39</td>\n",
       "      <td>17850.0</td>\n",
       "      <td>United Kingdom</td>\n",
       "    </tr>\n",
       "    <tr>\n",
       "      <th>2</th>\n",
       "      <td>536365</td>\n",
       "      <td>84406B</td>\n",
       "      <td>CREAM CUPID HEARTS COAT HANGER</td>\n",
       "      <td>8</td>\n",
       "      <td>01-12-2010 08:26</td>\n",
       "      <td>2.75</td>\n",
       "      <td>17850.0</td>\n",
       "      <td>United Kingdom</td>\n",
       "    </tr>\n",
       "    <tr>\n",
       "      <th>3</th>\n",
       "      <td>536365</td>\n",
       "      <td>84029G</td>\n",
       "      <td>KNITTED UNION FLAG HOT WATER BOTTLE</td>\n",
       "      <td>6</td>\n",
       "      <td>01-12-2010 08:26</td>\n",
       "      <td>3.39</td>\n",
       "      <td>17850.0</td>\n",
       "      <td>United Kingdom</td>\n",
       "    </tr>\n",
       "    <tr>\n",
       "      <th>4</th>\n",
       "      <td>536365</td>\n",
       "      <td>84029E</td>\n",
       "      <td>RED WOOLLY HOTTIE WHITE HEART.</td>\n",
       "      <td>6</td>\n",
       "      <td>01-12-2010 08:26</td>\n",
       "      <td>3.39</td>\n",
       "      <td>17850.0</td>\n",
       "      <td>United Kingdom</td>\n",
       "    </tr>\n",
       "    <tr>\n",
       "      <th>5</th>\n",
       "      <td>536365</td>\n",
       "      <td>22752</td>\n",
       "      <td>SET 7 BABUSHKA NESTING BOXES</td>\n",
       "      <td>2</td>\n",
       "      <td>01-12-2010 08:26</td>\n",
       "      <td>7.65</td>\n",
       "      <td>17850.0</td>\n",
       "      <td>United Kingdom</td>\n",
       "    </tr>\n",
       "    <tr>\n",
       "      <th>6</th>\n",
       "      <td>536365</td>\n",
       "      <td>21730</td>\n",
       "      <td>GLASS STAR FROSTED T-LIGHT HOLDER</td>\n",
       "      <td>6</td>\n",
       "      <td>01-12-2010 08:26</td>\n",
       "      <td>4.25</td>\n",
       "      <td>17850.0</td>\n",
       "      <td>United Kingdom</td>\n",
       "    </tr>\n",
       "    <tr>\n",
       "      <th>7</th>\n",
       "      <td>536366</td>\n",
       "      <td>22633</td>\n",
       "      <td>HAND WARMER UNION JACK</td>\n",
       "      <td>6</td>\n",
       "      <td>01-12-2010 08:28</td>\n",
       "      <td>1.85</td>\n",
       "      <td>17850.0</td>\n",
       "      <td>United Kingdom</td>\n",
       "    </tr>\n",
       "    <tr>\n",
       "      <th>8</th>\n",
       "      <td>536366</td>\n",
       "      <td>22632</td>\n",
       "      <td>HAND WARMER RED POLKA DOT</td>\n",
       "      <td>6</td>\n",
       "      <td>01-12-2010 08:28</td>\n",
       "      <td>1.85</td>\n",
       "      <td>17850.0</td>\n",
       "      <td>United Kingdom</td>\n",
       "    </tr>\n",
       "    <tr>\n",
       "      <th>9</th>\n",
       "      <td>536367</td>\n",
       "      <td>84879</td>\n",
       "      <td>ASSORTED COLOUR BIRD ORNAMENT</td>\n",
       "      <td>32</td>\n",
       "      <td>01-12-2010 08:34</td>\n",
       "      <td>1.69</td>\n",
       "      <td>13047.0</td>\n",
       "      <td>United Kingdom</td>\n",
       "    </tr>\n",
       "  </tbody>\n",
       "</table>\n",
       "</div>"
      ],
      "text/plain": [
       "  InvoiceNo StockCode                          Description  Quantity  \\\n",
       "0    536365    85123A   WHITE HANGING HEART T-LIGHT HOLDER         6   \n",
       "1    536365     71053                  WHITE METAL LANTERN         6   \n",
       "2    536365    84406B       CREAM CUPID HEARTS COAT HANGER         8   \n",
       "3    536365    84029G  KNITTED UNION FLAG HOT WATER BOTTLE         6   \n",
       "4    536365    84029E       RED WOOLLY HOTTIE WHITE HEART.         6   \n",
       "5    536365     22752         SET 7 BABUSHKA NESTING BOXES         2   \n",
       "6    536365     21730    GLASS STAR FROSTED T-LIGHT HOLDER         6   \n",
       "7    536366     22633               HAND WARMER UNION JACK         6   \n",
       "8    536366     22632            HAND WARMER RED POLKA DOT         6   \n",
       "9    536367     84879        ASSORTED COLOUR BIRD ORNAMENT        32   \n",
       "\n",
       "        InvoiceDate  UnitPrice  CustomerID         Country  \n",
       "0  01-12-2010 08:26       2.55     17850.0  United Kingdom  \n",
       "1  01-12-2010 08:26       3.39     17850.0  United Kingdom  \n",
       "2  01-12-2010 08:26       2.75     17850.0  United Kingdom  \n",
       "3  01-12-2010 08:26       3.39     17850.0  United Kingdom  \n",
       "4  01-12-2010 08:26       3.39     17850.0  United Kingdom  \n",
       "5  01-12-2010 08:26       7.65     17850.0  United Kingdom  \n",
       "6  01-12-2010 08:26       4.25     17850.0  United Kingdom  \n",
       "7  01-12-2010 08:28       1.85     17850.0  United Kingdom  \n",
       "8  01-12-2010 08:28       1.85     17850.0  United Kingdom  \n",
       "9  01-12-2010 08:34       1.69     13047.0  United Kingdom  "
      ]
     },
     "execution_count": 2,
     "metadata": {},
     "output_type": "execute_result"
    }
   ],
   "source": [
    "df.head(10)"
   ]
  },
  {
   "cell_type": "code",
   "execution_count": 3,
   "id": "6bbaf21e-fe7f-41d2-a9db-c4d898621d64",
   "metadata": {},
   "outputs": [],
   "source": [
    "df = df[~df['InvoiceNo'].astype(str).str.startswith('C')]"
   ]
  },
  {
   "cell_type": "code",
   "execution_count": 4,
   "id": "c93e97c3-c8f1-4d14-81d4-716cb3716fc7",
   "metadata": {},
   "outputs": [],
   "source": [
    "df = df[(df['Quantity']>0) & (df['UnitPrice']>0)]"
   ]
  },
  {
   "cell_type": "code",
   "execution_count": 5,
   "id": "0b30b1d0-0b7d-4ad3-888f-b2ccbca84ecc",
   "metadata": {},
   "outputs": [],
   "source": [
    "df = df.dropna(subset=['CustomerID'])"
   ]
  },
  {
   "cell_type": "code",
   "execution_count": 6,
   "id": "07e67f82-5ecc-4f95-9561-de5896109459",
   "metadata": {},
   "outputs": [],
   "source": [
    "import warnings\n",
    "warnings.filterwarnings('ignore')\n",
    "df['TotalPrice'] = df['Quantity'] * df['UnitPrice']"
   ]
  },
  {
   "cell_type": "code",
   "execution_count": 7,
   "id": "6833e3c7-ccaa-4b64-9983-65628edf30db",
   "metadata": {},
   "outputs": [],
   "source": [
    "df['CustomerID'] = df['CustomerID'].astype(int)\n"
   ]
  },
  {
   "cell_type": "code",
   "execution_count": null,
   "id": "3490fcf3-171b-4bf2-ad19-51f5816d0981",
   "metadata": {},
   "outputs": [],
   "source": [
    "\n"
   ]
  },
  {
   "cell_type": "code",
   "execution_count": 8,
   "id": "3bfb8b98-23d4-4ccf-bfa7-2a0edc2315a0",
   "metadata": {},
   "outputs": [
    {
     "data": {
      "text/plain": [
       "CustomerID\n",
       "14646    280206.02\n",
       "18102    259657.30\n",
       "17450    194550.79\n",
       "16446    168472.50\n",
       "14911    143825.06\n",
       "12415    124914.53\n",
       "14156    117379.63\n",
       "17511     91062.38\n",
       "16029     81024.84\n",
       "12346     77183.60\n",
       "Name: TotalPrice, dtype: float64"
      ]
     },
     "execution_count": 8,
     "metadata": {},
     "output_type": "execute_result"
    }
   ],
   "source": [
    "top_customers = df.groupby('CustomerID')['TotalPrice'].sum().sort_values(ascending=False).head(10)\n",
    "top_customers"
   ]
  },
  {
   "cell_type": "code",
   "execution_count": 9,
   "id": "c9cce29b-8da6-46e7-8402-9e2c215925d2",
   "metadata": {},
   "outputs": [],
   "source": [
    "df['InvoiceDate'] = pd.to_datetime(df['InvoiceDate'], errors='coerce')\n"
   ]
  },
  {
   "cell_type": "code",
   "execution_count": 10,
   "id": "bdf0a4e8-af1e-4085-a6da-919d19d377bd",
   "metadata": {},
   "outputs": [
    {
     "data": {
      "text/plain": [
       "InvoiceDate\n",
       "2010-01-31     46376.49\n",
       "2010-02-28     47316.53\n",
       "2010-03-31     23921.71\n",
       "2010-04-30         0.00\n",
       "2010-05-31     31771.60\n",
       "2010-06-30     31215.64\n",
       "2010-07-31     53795.31\n",
       "2010-08-31     39248.82\n",
       "2010-09-30     38231.90\n",
       "2010-10-31     33650.28\n",
       "2010-11-30         0.00\n",
       "2010-12-31     17305.77\n",
       "2011-01-31    239994.38\n",
       "2011-02-28    209542.22\n",
       "2011-03-31    261508.44\n",
       "2011-04-30    329347.22\n",
       "2011-05-31    322262.21\n",
       "2011-06-30    305544.20\n",
       "2011-07-31    322993.67\n",
       "2011-08-31    257498.63\n",
       "2011-09-30    421984.18\n",
       "2011-10-31    291455.90\n",
       "2011-11-30    345332.09\n",
       "2011-12-31    205190.80\n",
       "Name: TotalPrice, dtype: float64"
      ]
     },
     "execution_count": 10,
     "metadata": {},
     "output_type": "execute_result"
    }
   ],
   "source": [
    "monthly = df.resample('M', on='InvoiceDate')['TotalPrice'].sum()\n",
    "monthly"
   ]
  },
  {
   "cell_type": "code",
   "execution_count": 11,
   "id": "d7a3b809-f974-475f-a912-ac316c31c961",
   "metadata": {},
   "outputs": [],
   "source": [
    "top_products = df.groupby('Description')['TotalPrice'].sum().sort_values(ascending=False).head(10)"
   ]
  },
  {
   "cell_type": "code",
   "execution_count": 12,
   "id": "52be77d5-758d-42c4-ac48-29c22337e166",
   "metadata": {},
   "outputs": [
    {
     "data": {
      "text/plain": [
       "Description\n",
       "PAPER CRAFT , LITTLE BIRDIE           168469.60\n",
       "REGENCY CAKESTAND 3 TIER              142592.95\n",
       "WHITE HANGING HEART T-LIGHT HOLDER    100448.15\n",
       "JUMBO BAG RED RETROSPOT                85220.78\n",
       "MEDIUM CERAMIC TOP STORAGE JAR         81416.73\n",
       "POSTAGE                                77803.96\n",
       "PARTY BUNTING                          68844.33\n",
       "ASSORTED COLOUR BIRD ORNAMENT          56580.34\n",
       "Manual                                 53779.93\n",
       "RABBIT NIGHT LIGHT                     51346.20\n",
       "Name: TotalPrice, dtype: float64"
      ]
     },
     "execution_count": 12,
     "metadata": {},
     "output_type": "execute_result"
    }
   ],
   "source": [
    "top_products"
   ]
  },
  {
   "cell_type": "code",
   "execution_count": 17,
   "id": "7947e993-b986-4b74-8ff3-4ebb5ddc4399",
   "metadata": {},
   "outputs": [],
   "source": [
    "rfm = rfm.dropna(subset=['Recency'])\n",
    "\n"
   ]
  },
  {
   "cell_type": "code",
   "execution_count": 18,
   "id": "abb83e9b-5054-4b72-a496-91a8096fa561",
   "metadata": {},
   "outputs": [],
   "source": [
    "rfm['R_rank'] = pd.qcut(rfm['Recency'], 4, labels=[4,3,2,1], duplicates='drop')\n",
    "rfm['F_rank'] = pd.qcut(rfm['Frequency'].rank(method='first'), 4, labels=[1,2,3,4], duplicates='drop')\n",
    "rfm['M_rank'] = pd.qcut(rfm['Monetary'], 4, labels=[1,2,3,4], duplicates='drop')\n",
    "\n",
    "rfm[['R_rank','F_rank','M_rank']] = rfm[['R_rank','F_rank','M_rank']].astype(int)\n",
    "\n",
    "rfm['RFM_Score'] = (\n",
    "    rfm['R_rank'].astype(str) +\n",
    "    rfm['F_rank'].astype(str) +\n",
    "    rfm['M_rank'].astype(str)\n",
    ")\n"
   ]
  },
  {
   "cell_type": "code",
   "execution_count": 19,
   "id": "fd9ed2d5-f5e7-4bff-8f8e-c5ed66a102d4",
   "metadata": {},
   "outputs": [
    {
     "name": "stdout",
     "output_type": "stream",
     "text": [
      "   CustomerID  Recency  Frequency  Monetary  R_rank  F_rank  M_rank RFM_Score\n",
      "1       12347     96.0          7   4310.00       3       4       4       344\n",
      "2       12348    221.0          4   1797.24       1       3       3       133\n",
      "4       12350    312.0          1    334.40       1       1       1       111\n",
      "5       12352    275.0          8   2506.04       1       4       4       144\n",
      "8       12355     97.0          1    459.40       3       1       2       312\n",
      "RFM_Score\n",
      "444    263\n",
      "111    216\n",
      "344    162\n",
      "211    143\n",
      "433    115\n",
      "      ... \n",
      "314      2\n",
      "414      2\n",
      "431      1\n",
      "141      1\n",
      "241      1\n",
      "Name: count, Length: 62, dtype: int64\n"
     ]
    }
   ],
   "source": [
    "print(rfm.head())\n",
    "print(rfm['RFM_Score'].value_counts())\n"
   ]
  },
  {
   "cell_type": "code",
   "execution_count": 21,
   "id": "b2f7e61c-3026-49f1-b31c-e79345e9db3e",
   "metadata": {},
   "outputs": [],
   "source": [
    "rfm.to_csv('RFM cleaned_data.csv', index=False)\n"
   ]
  },
  {
   "cell_type": "code",
   "execution_count": null,
   "id": "291228b2-8d8a-46e4-9bf6-fd9e28185223",
   "metadata": {},
   "outputs": [],
   "source": []
  }
 ],
 "metadata": {
  "kernelspec": {
   "display_name": "Python 3 (ipykernel)",
   "language": "python",
   "name": "python3"
  },
  "language_info": {
   "codemirror_mode": {
    "name": "ipython",
    "version": 3
   },
   "file_extension": ".py",
   "mimetype": "text/x-python",
   "name": "python",
   "nbconvert_exporter": "python",
   "pygments_lexer": "ipython3",
   "version": "3.13.5"
  }
 },
 "nbformat": 4,
 "nbformat_minor": 5
}
