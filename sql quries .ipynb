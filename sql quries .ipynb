{
 "cells": [
  {
   "cell_type": "code",
   "execution_count": 2,
   "id": "7f094002-75ba-44af-ab0a-dd8bc5be7fa4",
   "metadata": {},
   "outputs": [
    {
     "name": "stdout",
     "output_type": "stream",
     "text": [
      "   Year Month  TotalRevenue\n",
      "0  None  None   5035919.914\n",
      "1  2010    01     46376.490\n",
      "2  2010    02     47316.530\n",
      "3  2010    03     23921.710\n",
      "4  2010    05     31771.600\n"
     ]
    }
   ],
   "source": [
    "import pandas as pd\n",
    "import sqlite3\n",
    "\n",
    "df = pd.read_csv(\"Online retail cleaned data.csv\")\n",
    "\n",
    "\n",
    "conn = sqlite3.connect(\":memory:\")\n",
    "df.to_sql(\"online_retail\", conn, index=False, if_exists='replace')\n",
    "\n",
    "\n",
    "query = \"\"\"\n",
    "SELECT \n",
    "    strftime('%Y', InvoiceDate) AS Year,\n",
    "    strftime('%m', InvoiceDate) AS Month,\n",
    "    SUM(Quantity*UnitPrice) AS TotalRevenue\n",
    "FROM online_retail\n",
    "GROUP BY Year, Month\n",
    "ORDER BY Year, Month;\n",
    "\"\"\"\n",
    "\n",
    "result = pd.read_sql_query(query, conn)\n",
    "print(result.head())\n",
    "\n",
    "conn.close()\n"
   ]
  },
  {
   "cell_type": "code",
   "execution_count": 3,
   "id": "36920408-8cef-41ba-bfb5-44fa94a04385",
   "metadata": {},
   "outputs": [],
   "source": [
    "result.to_csv(\"monthly_revenue.csv\", index=False)\n"
   ]
  },
  {
   "cell_type": "code",
   "execution_count": null,
   "id": "e452695c-3dae-4a7f-a993-5be48048614e",
   "metadata": {},
   "outputs": [],
   "source": []
  }
 ],
 "metadata": {
  "kernelspec": {
   "display_name": "Python 3 (ipykernel)",
   "language": "python",
   "name": "python3"
  },
  "language_info": {
   "codemirror_mode": {
    "name": "ipython",
    "version": 3
   },
   "file_extension": ".py",
   "mimetype": "text/x-python",
   "name": "python",
   "nbconvert_exporter": "python",
   "pygments_lexer": "ipython3",
   "version": "3.13.5"
  }
 },
 "nbformat": 4,
 "nbformat_minor": 5
}
